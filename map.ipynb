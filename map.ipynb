{
 "cells": [
  {
   "cell_type": "markdown",
   "id": "0226de27-2216-44f9-9704-97f01951efbc",
   "metadata": {},
   "source": [
    "# Regression"
   ]
  },
  {
   "cell_type": "code",
   "execution_count": 1,
   "id": "d4a4550f-e120-4db4-a638-0b4fecad79d9",
   "metadata": {},
   "outputs": [],
   "source": [
    "from sklearn.model_selection import train_test_split, GridSearchCV\n",
    "from sklearn.linear_model import LinearRegression\n",
    "from sklearn.metrics import mean_squared_error, r2_score\n",
    "from sklearn.preprocessing import StandardScaler\n",
    "import statsmodels.api as sm \n",
    "import matplotlib.pyplot as plt \n",
    "import numpy as np \n",
    "import pandas as pd "
   ]
  },
  {
   "cell_type": "code",
   "execution_count": 2,
   "id": "e127d2ab",
   "metadata": {},
   "outputs": [],
   "source": [
    "df = pd.read_csv(\"medical-facility-location.csv\")"
   ]
  },
  {
   "cell_type": "code",
   "execution_count": 3,
   "id": "48fa0098",
   "metadata": {},
   "outputs": [
    {
     "data": {
      "text/html": [
       "<div>\n",
       "<style scoped>\n",
       "    .dataframe tbody tr th:only-of-type {\n",
       "        vertical-align: middle;\n",
       "    }\n",
       "\n",
       "    .dataframe tbody tr th {\n",
       "        vertical-align: top;\n",
       "    }\n",
       "\n",
       "    .dataframe thead th {\n",
       "        text-align: right;\n",
       "    }\n",
       "</style>\n",
       "<table border=\"1\" class=\"dataframe\">\n",
       "  <thead>\n",
       "    <tr style=\"text-align: right;\">\n",
       "      <th></th>\n",
       "      <th>자치구</th>\n",
       "      <th>1인당 총 급여</th>\n",
       "      <th>소아청소년과 병원 수</th>\n",
       "      <th>소아청소년과 의원 수</th>\n",
       "      <th>미성년자인구수</th>\n",
       "    </tr>\n",
       "  </thead>\n",
       "  <tbody>\n",
       "    <tr>\n",
       "      <th>0</th>\n",
       "      <td>강남구</td>\n",
       "      <td>81053206.0</td>\n",
       "      <td>10</td>\n",
       "      <td>201</td>\n",
       "      <td>93867</td>\n",
       "    </tr>\n",
       "    <tr>\n",
       "      <th>1</th>\n",
       "      <td>서초구</td>\n",
       "      <td>80510746.0</td>\n",
       "      <td>5</td>\n",
       "      <td>141</td>\n",
       "      <td>76176</td>\n",
       "    </tr>\n",
       "    <tr>\n",
       "      <th>2</th>\n",
       "      <td>용산구</td>\n",
       "      <td>69795335.0</td>\n",
       "      <td>2</td>\n",
       "      <td>66</td>\n",
       "      <td>27345</td>\n",
       "    </tr>\n",
       "    <tr>\n",
       "      <th>3</th>\n",
       "      <td>송파구</td>\n",
       "      <td>55703664.0</td>\n",
       "      <td>4</td>\n",
       "      <td>257</td>\n",
       "      <td>106008</td>\n",
       "    </tr>\n",
       "    <tr>\n",
       "      <th>4</th>\n",
       "      <td>성동구</td>\n",
       "      <td>52498140.0</td>\n",
       "      <td>2</td>\n",
       "      <td>114</td>\n",
       "      <td>38125</td>\n",
       "    </tr>\n",
       "    <tr>\n",
       "      <th>5</th>\n",
       "      <td>종로구</td>\n",
       "      <td>52233029.0</td>\n",
       "      <td>6</td>\n",
       "      <td>49</td>\n",
       "      <td>17365</td>\n",
       "    </tr>\n",
       "    <tr>\n",
       "      <th>6</th>\n",
       "      <td>마포구</td>\n",
       "      <td>51249929.0</td>\n",
       "      <td>1</td>\n",
       "      <td>131</td>\n",
       "      <td>51366</td>\n",
       "    </tr>\n",
       "    <tr>\n",
       "      <th>7</th>\n",
       "      <td>중구</td>\n",
       "      <td>49499323.0</td>\n",
       "      <td>3</td>\n",
       "      <td>59</td>\n",
       "      <td>12773</td>\n",
       "    </tr>\n",
       "    <tr>\n",
       "      <th>8</th>\n",
       "      <td>양천구</td>\n",
       "      <td>49391500.0</td>\n",
       "      <td>5</td>\n",
       "      <td>101</td>\n",
       "      <td>79006</td>\n",
       "    </tr>\n",
       "    <tr>\n",
       "      <th>9</th>\n",
       "      <td>영등포구</td>\n",
       "      <td>47450278.0</td>\n",
       "      <td>6</td>\n",
       "      <td>136</td>\n",
       "      <td>48396</td>\n",
       "    </tr>\n",
       "    <tr>\n",
       "      <th>10</th>\n",
       "      <td>서대문구</td>\n",
       "      <td>44647890.0</td>\n",
       "      <td>4</td>\n",
       "      <td>67</td>\n",
       "      <td>41374</td>\n",
       "    </tr>\n",
       "    <tr>\n",
       "      <th>11</th>\n",
       "      <td>강동구</td>\n",
       "      <td>44191868.0</td>\n",
       "      <td>5</td>\n",
       "      <td>116</td>\n",
       "      <td>73171</td>\n",
       "    </tr>\n",
       "    <tr>\n",
       "      <th>12</th>\n",
       "      <td>동작구</td>\n",
       "      <td>44188900.0</td>\n",
       "      <td>5</td>\n",
       "      <td>122</td>\n",
       "      <td>49959</td>\n",
       "    </tr>\n",
       "    <tr>\n",
       "      <th>13</th>\n",
       "      <td>성북구</td>\n",
       "      <td>42202897.0</td>\n",
       "      <td>3</td>\n",
       "      <td>99</td>\n",
       "      <td>63312</td>\n",
       "    </tr>\n",
       "    <tr>\n",
       "      <th>14</th>\n",
       "      <td>광진구</td>\n",
       "      <td>40772493.0</td>\n",
       "      <td>5</td>\n",
       "      <td>141</td>\n",
       "      <td>42518</td>\n",
       "    </tr>\n",
       "    <tr>\n",
       "      <th>15</th>\n",
       "      <td>노원구</td>\n",
       "      <td>40073375.0</td>\n",
       "      <td>9</td>\n",
       "      <td>124</td>\n",
       "      <td>80970</td>\n",
       "    </tr>\n",
       "    <tr>\n",
       "      <th>16</th>\n",
       "      <td>강서구</td>\n",
       "      <td>39478474.0</td>\n",
       "      <td>8</td>\n",
       "      <td>197</td>\n",
       "      <td>80163</td>\n",
       "    </tr>\n",
       "    <tr>\n",
       "      <th>17</th>\n",
       "      <td>동대문구</td>\n",
       "      <td>37884712.0</td>\n",
       "      <td>7</td>\n",
       "      <td>118</td>\n",
       "      <td>42357</td>\n",
       "    </tr>\n",
       "    <tr>\n",
       "      <th>18</th>\n",
       "      <td>구로구</td>\n",
       "      <td>37383095.0</td>\n",
       "      <td>6</td>\n",
       "      <td>133</td>\n",
       "      <td>55158</td>\n",
       "    </tr>\n",
       "    <tr>\n",
       "      <th>19</th>\n",
       "      <td>은평구</td>\n",
       "      <td>36915161.0</td>\n",
       "      <td>8</td>\n",
       "      <td>156</td>\n",
       "      <td>64863</td>\n",
       "    </tr>\n",
       "    <tr>\n",
       "      <th>20</th>\n",
       "      <td>도봉구</td>\n",
       "      <td>33944232.0</td>\n",
       "      <td>5</td>\n",
       "      <td>81</td>\n",
       "      <td>41355</td>\n",
       "    </tr>\n",
       "    <tr>\n",
       "      <th>21</th>\n",
       "      <td>관악구</td>\n",
       "      <td>33653264.0</td>\n",
       "      <td>4</td>\n",
       "      <td>122</td>\n",
       "      <td>46900</td>\n",
       "    </tr>\n",
       "    <tr>\n",
       "      <th>22</th>\n",
       "      <td>중랑구</td>\n",
       "      <td>32823432.0</td>\n",
       "      <td>8</td>\n",
       "      <td>124</td>\n",
       "      <td>46717</td>\n",
       "    </tr>\n",
       "    <tr>\n",
       "      <th>23</th>\n",
       "      <td>금천구</td>\n",
       "      <td>32511710.0</td>\n",
       "      <td>1</td>\n",
       "      <td>73</td>\n",
       "      <td>25631</td>\n",
       "    </tr>\n",
       "    <tr>\n",
       "      <th>24</th>\n",
       "      <td>강북구</td>\n",
       "      <td>31041123.0</td>\n",
       "      <td>1</td>\n",
       "      <td>119</td>\n",
       "      <td>34944</td>\n",
       "    </tr>\n",
       "  </tbody>\n",
       "</table>\n",
       "</div>"
      ],
      "text/plain": [
       "     자치구    1인당 총 급여  소아청소년과 병원 수  소아청소년과 의원 수  미성년자인구수\n",
       "0    강남구  81053206.0           10          201    93867\n",
       "1    서초구  80510746.0            5          141    76176\n",
       "2    용산구  69795335.0            2           66    27345\n",
       "3    송파구  55703664.0            4          257   106008\n",
       "4    성동구  52498140.0            2          114    38125\n",
       "5    종로구  52233029.0            6           49    17365\n",
       "6    마포구  51249929.0            1          131    51366\n",
       "7     중구  49499323.0            3           59    12773\n",
       "8    양천구  49391500.0            5          101    79006\n",
       "9   영등포구  47450278.0            6          136    48396\n",
       "10  서대문구  44647890.0            4           67    41374\n",
       "11   강동구  44191868.0            5          116    73171\n",
       "12   동작구  44188900.0            5          122    49959\n",
       "13   성북구  42202897.0            3           99    63312\n",
       "14   광진구  40772493.0            5          141    42518\n",
       "15   노원구  40073375.0            9          124    80970\n",
       "16   강서구  39478474.0            8          197    80163\n",
       "17  동대문구  37884712.0            7          118    42357\n",
       "18   구로구  37383095.0            6          133    55158\n",
       "19   은평구  36915161.0            8          156    64863\n",
       "20   도봉구  33944232.0            5           81    41355\n",
       "21   관악구  33653264.0            4          122    46900\n",
       "22   중랑구  32823432.0            8          124    46717\n",
       "23   금천구  32511710.0            1           73    25631\n",
       "24   강북구  31041123.0            1          119    34944"
      ]
     },
     "execution_count": 3,
     "metadata": {},
     "output_type": "execute_result"
    }
   ],
   "source": [
    "df"
   ]
  },
  {
   "cell_type": "code",
   "execution_count": 4,
   "id": "8601799e-45d0-4644-9d84-1cf12b84188d",
   "metadata": {},
   "outputs": [],
   "source": [
    "import matplotlib as mpl\n",
    "mpl.rcParams['font.family'] = 'AppleGothic'\n",
    "plt.rcParams['axes.unicode_minus'] = False"
   ]
  },
  {
   "cell_type": "code",
   "execution_count": 8,
   "id": "50b5fb43-ea99-43f2-9be9-30ef3ad90675",
   "metadata": {},
   "outputs": [
    {
     "name": "stdout",
     "output_type": "stream",
     "text": [
      "Mean Squared Error: 1436.6143926938385\n",
      "회귀 계수: [0.         0.00171956]\n",
      "절편: 33.00548958683051\n"
     ]
    },
    {
     "data": {
      "image/png": "[encoded data removed]",
      "text/plain": [
       "<Figure size 640x480 with 1 Axes>"
      ]
     },
     "metadata": {},
     "output_type": "display_data"
    }
   ],
   "source": [
    "X = df[['미성년자인구수']]\n",
    "X = sm.add_constant(X) # 상수항 추가\n",
    "y = df['소아청소년과 의원 수']\n",
    "\n",
    "# 데이터를 훈련 세트와 테스트 세트로 나눔\n",
    "X_train, X_test, y_train, y_test = train_test_split(X, y, test_size=0.2, random_state=42)\n",
    "\n",
    "# 선형 회귀 모델 생성 및 훈련\n",
    "model = LinearRegression()\n",
    "model.fit(X_train, y_train)\n",
    "\n",
    "# 테스트 세트에 대한 예측\n",
    "y_pred = model.predict(X_test)\n",
    "\n",
    "# 모델 평가\n",
    "mse = mean_squared_error(y_test, y_pred)\n",
    "print(f'Mean Squared Error: {mse}')\n",
    "\n",
    "# 학습된 모델의 회귀 계수와 절편 확인\n",
    "print('회귀 계수:', model.coef_)\n",
    "print('절편:', model.intercept_)\n",
    "\n",
    "# 시각화\n",
    "plt.scatter(X['미성년자인구수'], y, color='black', label='실제 데이터')\n",
    "plt.plot(X_test, y_pred, color='blue', linewidth=3, label='회귀 모델')\n",
    "plt.xlabel('미성년자 인구수')\n",
    "plt.ylabel('소아청소년과 의원 수')\n",
    "plt.legend()\n",
    "plt.show()"
   ]
  },
  {
   "cell_type": "code",
   "execution_count": 9,
   "id": "16661f7e-9ba2-480f-a640-9594c3f862ae",
   "metadata": {},
   "outputs": [
    {
     "data": {
      "text/plain": [
       "0     201\n",
       "1     141\n",
       "2      66\n",
       "3     257\n",
       "4     114\n",
       "5      49\n",
       "6     131\n",
       "7      59\n",
       "8     101\n",
       "9     136\n",
       "10     67\n",
       "11    116\n",
       "12    122\n",
       "13     99\n",
       "14    141\n",
       "15    124\n",
       "16    197\n",
       "17    118\n",
       "18    133\n",
       "19    156\n",
       "20     81\n",
       "21    122\n",
       "22    124\n",
       "23     73\n",
       "24    119\n",
       "Name: 소아청소년과 의원 수, dtype: int64"
      ]
     },
     "execution_count": 9,
     "metadata": {},
     "output_type": "execute_result"
    }
   ],
   "source": [
    "y"
   ]
  },
  {
   "cell_type": "code",
   "execution_count": 10,
   "id": "e801a44b",
   "metadata": {},
   "outputs": [
    {
     "name": "stdout",
     "output_type": "stream",
     "text": [
      "ShapiroResult(statistic=0.9170117378234863, pvalue=0.04382031038403511)\n"
     ]
    }
   ],
   "source": [
    "from scipy.stats import shapiro\n",
    "print(shapiro(y-np.mean(y)))"
   ]
  },
  {
   "cell_type": "code",
   "execution_count": 11,
   "id": "56a0f7bc-c25c-4ef8-b114-0cc44f95e0c8",
   "metadata": {},
   "outputs": [
    {
     "data": {
      "image/png": "[encoded data removed]",
      "text/plain": [
       "<Figure size 640x480 with 1 Axes>"
      ]
     },
     "metadata": {},
     "output_type": "display_data"
    }
   ],
   "source": [
    "fig = sm.qqplot(y, line='45')\n",
    "plt.show()"
   ]
  },
  {
   "cell_type": "code",
   "execution_count": 12,
   "id": "456de1a2",
   "metadata": {},
   "outputs": [
    {
     "data": {
      "image/png": "[encoded data removed]",
      "text/plain": [
       "<Figure size 640x480 with 1 Axes>"
      ]
     },
     "metadata": {},
     "output_type": "display_data"
    }
   ],
   "source": [
    "fig = sm.qqplot(y-np.mean(y), line='45')\n",
    "plt.show()"
   ]
  },
  {
   "cell_type": "code",
   "execution_count": 13,
   "id": "2e2a8064-ff83-40c6-908e-d824612db47b",
   "metadata": {},
   "outputs": [
    {
     "data": {
      "text/plain": [
       "(array([4., 2., 2., 9., 4., 1., 0., 2., 0., 1.]),\n",
       " array([-72.88, -52.08, -31.28, -10.48,  10.32,  31.12,  51.92,  72.72,\n",
       "         93.52, 114.32, 135.12]),\n",
       " <BarContainer object of 10 artists>)"
      ]
     },
     "execution_count": 13,
     "metadata": {},
     "output_type": "execute_result"
    },
    {
     "data": {
      "image/png": "[encoded data removed]",
      "text/plain": [
       "<Figure size 640x480 with 1 Axes>"
      ]
     },
     "metadata": {},
     "output_type": "display_data"
    }
   ],
   "source": [
    "plt.hist(y-np.mean(y))"
   ]
  },
  {
   "cell_type": "code",
   "execution_count": 14,
   "id": "9044097b-fc77-4720-a3e2-987a30c065de",
   "metadata": {},
   "outputs": [
    {
     "data": {
      "text/plain": [
       "121.88"
      ]
     },
     "execution_count": 14,
     "metadata": {},
     "output_type": "execute_result"
    }
   ],
   "source": [
    "# 평균을 구하고\n",
    "# redisual \n",
    "import numpy as np\n",
    "\n",
    "np.mean(y)"
   ]
  },
  {
   "cell_type": "code",
   "execution_count": 15,
   "id": "86b9f935-98c1-4059-97ab-976dedb8b141",
   "metadata": {},
   "outputs": [
    {
     "data": {
      "text/plain": [
       "0      79.12\n",
       "1      19.12\n",
       "2     -55.88\n",
       "3     135.12\n",
       "4      -7.88\n",
       "5     -72.88\n",
       "6       9.12\n",
       "7     -62.88\n",
       "8     -20.88\n",
       "9      14.12\n",
       "10    -54.88\n",
       "11     -5.88\n",
       "12      0.12\n",
       "13    -22.88\n",
       "14     19.12\n",
       "15      2.12\n",
       "16     75.12\n",
       "17     -3.88\n",
       "18     11.12\n",
       "19     34.12\n",
       "20    -40.88\n",
       "21      0.12\n",
       "22      2.12\n",
       "23    -48.88\n",
       "24     -2.88\n",
       "Name: 소아청소년과 의원 수, dtype: float64"
      ]
     },
     "execution_count": 15,
     "metadata": {},
     "output_type": "execute_result"
    }
   ],
   "source": [
    "y-np.mean(y)"
   ]
  },
  {
   "cell_type": "code",
   "execution_count": 16,
   "id": "aa07998c-8b97-48b7-a6be-60fb8cda1615",
   "metadata": {},
   "outputs": [
    {
     "name": "stdout",
     "output_type": "stream",
     "text": [
      "0.4326944053173065\n",
      "잔차는 정규 분포를 따릅니다.\n"
     ]
    },
    {
     "data": {
      "image/png": "[encoded data removed]",
      "text/plain": [
       "<Figure size 640x480 with 1 Axes>"
      ]
     },
     "metadata": {},
     "output_type": "display_data"
    }
   ],
   "source": [
    "import numpy as np\n",
    "import statsmodels.api as sm\n",
    "import scipy.stats as stats\n",
    "\n",
    "# 회귀 모델 학습\n",
    "model = sm.OLS(y, X)\n",
    "results = model.fit()\n",
    "\n",
    "# 잔차 추출\n",
    "residuals = results.resid\n",
    "\n",
    "# 잔차 정규성 확인 - 잔차 플롯\n",
    "sm.qqplot(residuals, line='s')\n",
    "\n",
    "# 잔차 정규성 확인 - 정규성 검정\n",
    "_, p_value = stats.shapiro(residuals)\n",
    "alpha = 0.05  # 유의수준 설정\n",
    "\n",
    "print(p_value)\n",
    "if p_value > alpha:\n",
    "    print(\"잔차는 정규 분포를 따릅니다.\")\n",
    "else:\n",
    "    print(\"잔차는 정규 분포를 따르지 않습니다.\")"
   ]
  },
  {
   "cell_type": "code",
   "execution_count": 17,
   "id": "57d70102-4470-4992-8183-170da01563c5",
   "metadata": {},
   "outputs": [
    {
     "data": {
      "image/png": "[encoded data removed]",
      "text/plain": [
       "<Figure size 640x480 with 1 Axes>"
      ]
     },
     "metadata": {},
     "output_type": "display_data"
    }
   ],
   "source": [
    "plt.hist(residuals)\n",
    "fig.savefig('normality-hist.png')"
   ]
  },
  {
   "cell_type": "code",
   "execution_count": 18,
   "id": "ab4ad967-0482-41c6-ac84-28b161d8469b",
   "metadata": {},
   "outputs": [
    {
     "data": {
      "text/plain": [
       "0     14.371681\n",
       "1    -17.186751\n",
       "2    -13.681852\n",
       "3     50.852770\n",
       "4     16.987296\n",
       "5    -14.637149\n",
       "6     12.699930\n",
       "7      2.745343\n",
       "8    -61.736502\n",
       "9     22.474757\n",
       "10   -35.236075\n",
       "11   -37.355656\n",
       "12     5.961944\n",
       "13   -38.505483\n",
       "14    36.924733\n",
       "15   -41.893996\n",
       "16    32.403406\n",
       "17    14.183570\n",
       "18     8.603586\n",
       "19    16.000997\n",
       "20   -21.205529\n",
       "21    10.879854\n",
       "22    13.174061\n",
       "23    -3.926279\n",
       "24    27.101344\n",
       "dtype: float64"
      ]
     },
     "execution_count": 18,
     "metadata": {},
     "output_type": "execute_result"
    }
   ],
   "source": [
    "residuals"
   ]
  },
  {
   "cell_type": "code",
   "execution_count": 19,
   "id": "b8521e5e-821b-4f7a-8e3f-b477d0a4bfa7",
   "metadata": {},
   "outputs": [
    {
     "data": {
      "text/html": [
       "<table class=\"simpletable\">\n",
       "<caption>OLS Regression Results</caption>\n",
       "<tr>\n",
       "  <th>Dep. Variable:</th>       <td>소아청소년과 의원 수</td>   <th>  R-squared:         </th> <td>   0.649</td>\n",
       "</tr>\n",
       "<tr>\n",
       "  <th>Model:</th>                   <td>OLS</td>       <th>  Adj. R-squared:    </th> <td>   0.634</td>\n",
       "</tr>\n",
       "<tr>\n",
       "  <th>Method:</th>             <td>Least Squares</td>  <th>  F-statistic:       </th> <td>   42.52</td>\n",
       "</tr>\n",
       "<tr>\n",
       "  <th>Date:</th>             <td>Wed, 13 Dec 2023</td> <th>  Prob (F-statistic):</th> <td>1.18e-06</td>\n",
       "</tr>\n",
       "<tr>\n",
       "  <th>Time:</th>                 <td>11:02:08</td>     <th>  Log-Likelihood:    </th> <td> -118.13</td>\n",
       "</tr>\n",
       "<tr>\n",
       "  <th>No. Observations:</th>      <td>    25</td>      <th>  AIC:               </th> <td>   240.3</td>\n",
       "</tr>\n",
       "<tr>\n",
       "  <th>Df Residuals:</th>          <td>    23</td>      <th>  BIC:               </th> <td>   242.7</td>\n",
       "</tr>\n",
       "<tr>\n",
       "  <th>Df Model:</th>              <td>     1</td>      <th>                     </th>     <td> </td>   \n",
       "</tr>\n",
       "<tr>\n",
       "  <th>Covariance Type:</th>      <td>nonrobust</td>    <th>                     </th>     <td> </td>   \n",
       "</tr>\n",
       "</table>\n",
       "<table class=\"simpletable\">\n",
       "<tr>\n",
       "     <td></td>        <th>coef</th>     <th>std err</th>      <th>t</th>      <th>P>|t|</th>  <th>[0.025</th>    <th>0.975]</th>  \n",
       "</tr>\n",
       "<tr>\n",
       "  <th>const</th>   <td>   35.7197</td> <td>   14.386</td> <td>    2.483</td> <td> 0.021</td> <td>    5.959</td> <td>   65.480</td>\n",
       "</tr>\n",
       "<tr>\n",
       "  <th>미성년자인구수</th> <td>    0.0016</td> <td>    0.000</td> <td>    6.520</td> <td> 0.000</td> <td>    0.001</td> <td>    0.002</td>\n",
       "</tr>\n",
       "</table>\n",
       "<table class=\"simpletable\">\n",
       "<tr>\n",
       "  <th>Omnibus:</th>       <td> 1.071</td> <th>  Durbin-Watson:     </th> <td>   2.586</td>\n",
       "</tr>\n",
       "<tr>\n",
       "  <th>Prob(Omnibus):</th> <td> 0.586</td> <th>  Jarque-Bera (JB):  </th> <td>   1.015</td>\n",
       "</tr>\n",
       "<tr>\n",
       "  <th>Skew:</th>          <td>-0.421</td> <th>  Prob(JB):          </th> <td>   0.602</td>\n",
       "</tr>\n",
       "<tr>\n",
       "  <th>Kurtosis:</th>      <td> 2.484</td> <th>  Cond. No.          </th> <td>1.48e+05</td>\n",
       "</tr>\n",
       "</table><br/><br/>Notes:<br/>[1] Standard Errors assume that the covariance matrix of the errors is correctly specified.<br/>[2] The condition number is large, 1.48e+05. This might indicate that there are<br/>strong multicollinearity or other numerical problems."
      ],
      "text/latex": [
       "\\begin{center}\n",
       "\\begin{tabular}{lclc}\n",
       "\\toprule\n",
       "\\textbf{Dep. Variable:}    &   소아청소년과 의원 수    & \\textbf{  R-squared:         } &     0.649   \\\\\n",
       "\\textbf{Model:}            &       OLS        & \\textbf{  Adj. R-squared:    } &     0.634   \\\\\n",
       "\\textbf{Method:}           &  Least Squares   & \\textbf{  F-statistic:       } &     42.52   \\\\\n",
       "\\textbf{Date:}             & Wed, 13 Dec 2023 & \\textbf{  Prob (F-statistic):} &  1.18e-06   \\\\\n",
       "\\textbf{Time:}             &     11:02:08     & \\textbf{  Log-Likelihood:    } &   -118.13   \\\\\n",
       "\\textbf{No. Observations:} &          25      & \\textbf{  AIC:               } &     240.3   \\\\\n",
       "\\textbf{Df Residuals:}     &          23      & \\textbf{  BIC:               } &     242.7   \\\\\n",
       "\\textbf{Df Model:}         &           1      & \\textbf{                     } &             \\\\\n",
       "\\textbf{Covariance Type:}  &    nonrobust     & \\textbf{                     } &             \\\\\n",
       "\\bottomrule\n",
       "\\end{tabular}\n",
       "\\begin{tabular}{lcccccc}\n",
       "                 & \\textbf{coef} & \\textbf{std err} & \\textbf{t} & \\textbf{P$> |$t$|$} & \\textbf{[0.025} & \\textbf{0.975]}  \\\\\n",
       "\\midrule\n",
       "\\textbf{const}   &      35.7197  &       14.386     &     2.483  &         0.021        &        5.959    &       65.480     \\\\\n",
       "\\textbf{미성년자인구수} &       0.0016  &        0.000     &     6.520  &         0.000        &        0.001    &        0.002     \\\\\n",
       "\\bottomrule\n",
       "\\end{tabular}\n",
       "\\begin{tabular}{lclc}\n",
       "\\textbf{Omnibus:}       &  1.071 & \\textbf{  Durbin-Watson:     } &    2.586  \\\\\n",
       "\\textbf{Prob(Omnibus):} &  0.586 & \\textbf{  Jarque-Bera (JB):  } &    1.015  \\\\\n",
       "\\textbf{Skew:}          & -0.421 & \\textbf{  Prob(JB):          } &    0.602  \\\\\n",
       "\\textbf{Kurtosis:}      &  2.484 & \\textbf{  Cond. No.          } & 1.48e+05  \\\\\n",
       "\\bottomrule\n",
       "\\end{tabular}\n",
       "%\\caption{OLS Regression Results}\n",
       "\\end{center}\n",
       "\n",
       "Notes: \\newline\n",
       " [1] Standard Errors assume that the covariance matrix of the errors is correctly specified. \\newline\n",
       " [2] The condition number is large, 1.48e+05. This might indicate that there are \\newline\n",
       " strong multicollinearity or other numerical problems."
      ],
      "text/plain": [
       "<class 'statsmodels.iolib.summary.Summary'>\n",
       "\"\"\"\n",
       "                            OLS Regression Results                            \n",
       "==============================================================================\n",
       "Dep. Variable:            소아청소년과 의원 수   R-squared:                       0.649\n",
       "Model:                            OLS   Adj. R-squared:                  0.634\n",
       "Method:                 Least Squares   F-statistic:                     42.52\n",
       "Date:                Wed, 13 Dec 2023   Prob (F-statistic):           1.18e-06\n",
       "Time:                        11:02:08   Log-Likelihood:                -118.13\n",
       "No. Observations:                  25   AIC:                             240.3\n",
       "Df Residuals:                      23   BIC:                             242.7\n",
       "Df Model:                           1                                         \n",
       "Covariance Type:            nonrobust                                         \n",
       "==============================================================================\n",
       "                 coef    std err          t      P>|t|      [0.025      0.975]\n",
       "------------------------------------------------------------------------------\n",
       "const         35.7197     14.386      2.483      0.021       5.959      65.480\n",
       "미성년자인구수        0.0016      0.000      6.520      0.000       0.001       0.002\n",
       "==============================================================================\n",
       "Omnibus:                        1.071   Durbin-Watson:                   2.586\n",
       "Prob(Omnibus):                  0.586   Jarque-Bera (JB):                1.015\n",
       "Skew:                          -0.421   Prob(JB):                        0.602\n",
       "Kurtosis:                       2.484   Cond. No.                     1.48e+05\n",
       "==============================================================================\n",
       "\n",
       "Notes:\n",
       "[1] Standard Errors assume that the covariance matrix of the errors is correctly specified.\n",
       "[2] The condition number is large, 1.48e+05. This might indicate that there are\n",
       "strong multicollinearity or other numerical problems.\n",
       "\"\"\""
      ]
     },
     "execution_count": 19,
     "metadata": {},
     "output_type": "execute_result"
    }
   ],
   "source": [
    "results.summary()"
   ]
  },
  {
   "cell_type": "code",
   "execution_count": 21,
   "id": "2b10e0e9-8486-4c57-9a31-cbf7b0af30ed",
   "metadata": {},
   "outputs": [
    {
     "data": {
      "image/png": "[encoded data removed]",
      "text/plain": [
       "<Figure size 640x480 with 1 Axes>"
      ]
     },
     "metadata": {},
     "output_type": "display_data"
    }
   ],
   "source": [
    "plt.scatter(X['미성년자인구수'], y)\n",
    "plt.plot(X['미성년자인구수'], 0.0016*X+35.7197, 'r')\n",
    "plt.show()"
   ]
  },
  {
   "cell_type": "code",
   "execution_count": 22,
   "id": "6ae64d2d-8796-4284-a5dd-86205029bef0",
   "metadata": {},
   "outputs": [
    {
     "name": "stdout",
     "output_type": "stream",
     "text": [
      "입력값 50000에 대한 소아청소년과 의원 수 예측:       const   미성년자인구수\n",
      "0   35.7213  185.9069\n",
      "1   35.7213  157.6013\n",
      "2   35.7213   79.4717\n",
      "3   35.7213  205.3325\n",
      "4   35.7213   96.7197\n",
      "5   35.7213   63.5037\n",
      "6   35.7213  117.9053\n",
      "7   35.7213   56.1565\n",
      "8   35.7213  162.1293\n",
      "9   35.7213  113.1533\n",
      "10  35.7213  101.9181\n",
      "11  35.7213  152.7933\n",
      "12  35.7213  115.6541\n",
      "13  35.7213  137.0189\n",
      "14  35.7213  103.7485\n",
      "15  35.7213  165.2717\n",
      "16  35.7213  163.9805\n",
      "17  35.7213  103.4909\n",
      "18  35.7213  123.9725\n",
      "19  35.7213  139.5005\n",
      "20  35.7213  101.8877\n",
      "21  35.7213  110.7597\n",
      "22  35.7213  110.4669\n",
      "23  35.7213   76.7293\n",
      "24  35.7213   91.6301\n"
     ]
    }
   ],
   "source": [
    "# 입력값으로 50000을 주고 해당하는 소아청소년과 의원 수를 예측\n",
    "input_value = 50000\n",
    "predicted_value = 0.0016*X+35.7197\n",
    "print(f'입력값 {input_value}에 대한 소아청소년과 의원 수 예측: {predicted_value}')\n"
   ]
  },
  {
   "cell_type": "code",
   "execution_count": 28,
   "id": "7eb79d4c-011e-408d-bb02-e5e57e6083f8",
   "metadata": {},
   "outputs": [],
   "source": [
    "# 미성년자 인구수 열을 추출하여 2D 배열로 변환\n",
    "X_values = df[['미성년자인구수']].values\n",
    "\n",
    "# 예측값 계산\n",
    "expectations =  0.0016*X+35.7197\n",
    "\n",
    "# 결과를 \"expectation\" 컬럼에 추가\n",
    "df['expectation'] = expectations['미성년자인구수']"
   ]
  },
  {
   "cell_type": "code",
   "execution_count": 29,
   "id": "39b9a4a1-e4d6-4607-9b77-8118671d908a",
   "metadata": {},
   "outputs": [
    {
     "data": {
      "text/html": [
       "<div>\n",
       "<style scoped>\n",
       "    .dataframe tbody tr th:only-of-type {\n",
       "        vertical-align: middle;\n",
       "    }\n",
       "\n",
       "    .dataframe tbody tr th {\n",
       "        vertical-align: top;\n",
       "    }\n",
       "\n",
       "    .dataframe thead th {\n",
       "        text-align: right;\n",
       "    }\n",
       "</style>\n",
       "<table border=\"1\" class=\"dataframe\">\n",
       "  <thead>\n",
       "    <tr style=\"text-align: right;\">\n",
       "      <th></th>\n",
       "      <th>자치구</th>\n",
       "      <th>1인당 총 급여</th>\n",
       "      <th>소아청소년과 병원 수</th>\n",
       "      <th>소아청소년과 의원 수</th>\n",
       "      <th>미성년자인구수</th>\n",
       "      <th>expectation</th>\n",
       "    </tr>\n",
       "  </thead>\n",
       "  <tbody>\n",
       "    <tr>\n",
       "      <th>0</th>\n",
       "      <td>강남구</td>\n",
       "      <td>81053206.0</td>\n",
       "      <td>10</td>\n",
       "      <td>201</td>\n",
       "      <td>93867</td>\n",
       "      <td>185.9069</td>\n",
       "    </tr>\n",
       "    <tr>\n",
       "      <th>1</th>\n",
       "      <td>서초구</td>\n",
       "      <td>80510746.0</td>\n",
       "      <td>5</td>\n",
       "      <td>141</td>\n",
       "      <td>76176</td>\n",
       "      <td>157.6013</td>\n",
       "    </tr>\n",
       "    <tr>\n",
       "      <th>2</th>\n",
       "      <td>용산구</td>\n",
       "      <td>69795335.0</td>\n",
       "      <td>2</td>\n",
       "      <td>66</td>\n",
       "      <td>27345</td>\n",
       "      <td>79.4717</td>\n",
       "    </tr>\n",
       "    <tr>\n",
       "      <th>3</th>\n",
       "      <td>송파구</td>\n",
       "      <td>55703664.0</td>\n",
       "      <td>4</td>\n",
       "      <td>257</td>\n",
       "      <td>106008</td>\n",
       "      <td>205.3325</td>\n",
       "    </tr>\n",
       "    <tr>\n",
       "      <th>4</th>\n",
       "      <td>성동구</td>\n",
       "      <td>52498140.0</td>\n",
       "      <td>2</td>\n",
       "      <td>114</td>\n",
       "      <td>38125</td>\n",
       "      <td>96.7197</td>\n",
       "    </tr>\n",
       "    <tr>\n",
       "      <th>5</th>\n",
       "      <td>종로구</td>\n",
       "      <td>52233029.0</td>\n",
       "      <td>6</td>\n",
       "      <td>49</td>\n",
       "      <td>17365</td>\n",
       "      <td>63.5037</td>\n",
       "    </tr>\n",
       "    <tr>\n",
       "      <th>6</th>\n",
       "      <td>마포구</td>\n",
       "      <td>51249929.0</td>\n",
       "      <td>1</td>\n",
       "      <td>131</td>\n",
       "      <td>51366</td>\n",
       "      <td>117.9053</td>\n",
       "    </tr>\n",
       "    <tr>\n",
       "      <th>7</th>\n",
       "      <td>중구</td>\n",
       "      <td>49499323.0</td>\n",
       "      <td>3</td>\n",
       "      <td>59</td>\n",
       "      <td>12773</td>\n",
       "      <td>56.1565</td>\n",
       "    </tr>\n",
       "    <tr>\n",
       "      <th>8</th>\n",
       "      <td>양천구</td>\n",
       "      <td>49391500.0</td>\n",
       "      <td>5</td>\n",
       "      <td>101</td>\n",
       "      <td>79006</td>\n",
       "      <td>162.1293</td>\n",
       "    </tr>\n",
       "    <tr>\n",
       "      <th>9</th>\n",
       "      <td>영등포구</td>\n",
       "      <td>47450278.0</td>\n",
       "      <td>6</td>\n",
       "      <td>136</td>\n",
       "      <td>48396</td>\n",
       "      <td>113.1533</td>\n",
       "    </tr>\n",
       "    <tr>\n",
       "      <th>10</th>\n",
       "      <td>서대문구</td>\n",
       "      <td>44647890.0</td>\n",
       "      <td>4</td>\n",
       "      <td>67</td>\n",
       "      <td>41374</td>\n",
       "      <td>101.9181</td>\n",
       "    </tr>\n",
       "    <tr>\n",
       "      <th>11</th>\n",
       "      <td>강동구</td>\n",
       "      <td>44191868.0</td>\n",
       "      <td>5</td>\n",
       "      <td>116</td>\n",
       "      <td>73171</td>\n",
       "      <td>152.7933</td>\n",
       "    </tr>\n",
       "    <tr>\n",
       "      <th>12</th>\n",
       "      <td>동작구</td>\n",
       "      <td>44188900.0</td>\n",
       "      <td>5</td>\n",
       "      <td>122</td>\n",
       "      <td>49959</td>\n",
       "      <td>115.6541</td>\n",
       "    </tr>\n",
       "    <tr>\n",
       "      <th>13</th>\n",
       "      <td>성북구</td>\n",
       "      <td>42202897.0</td>\n",
       "      <td>3</td>\n",
       "      <td>99</td>\n",
       "      <td>63312</td>\n",
       "      <td>137.0189</td>\n",
       "    </tr>\n",
       "    <tr>\n",
       "      <th>14</th>\n",
       "      <td>광진구</td>\n",
       "      <td>40772493.0</td>\n",
       "      <td>5</td>\n",
       "      <td>141</td>\n",
       "      <td>42518</td>\n",
       "      <td>103.7485</td>\n",
       "    </tr>\n",
       "    <tr>\n",
       "      <th>15</th>\n",
       "      <td>노원구</td>\n",
       "      <td>40073375.0</td>\n",
       "      <td>9</td>\n",
       "      <td>124</td>\n",
       "      <td>80970</td>\n",
       "      <td>165.2717</td>\n",
       "    </tr>\n",
       "    <tr>\n",
       "      <th>16</th>\n",
       "      <td>강서구</td>\n",
       "      <td>39478474.0</td>\n",
       "      <td>8</td>\n",
       "      <td>197</td>\n",
       "      <td>80163</td>\n",
       "      <td>163.9805</td>\n",
       "    </tr>\n",
       "    <tr>\n",
       "      <th>17</th>\n",
       "      <td>동대문구</td>\n",
       "      <td>37884712.0</td>\n",
       "      <td>7</td>\n",
       "      <td>118</td>\n",
       "      <td>42357</td>\n",
       "      <td>103.4909</td>\n",
       "    </tr>\n",
       "    <tr>\n",
       "      <th>18</th>\n",
       "      <td>구로구</td>\n",
       "      <td>37383095.0</td>\n",
       "      <td>6</td>\n",
       "      <td>133</td>\n",
       "      <td>55158</td>\n",
       "      <td>123.9725</td>\n",
       "    </tr>\n",
       "    <tr>\n",
       "      <th>19</th>\n",
       "      <td>은평구</td>\n",
       "      <td>36915161.0</td>\n",
       "      <td>8</td>\n",
       "      <td>156</td>\n",
       "      <td>64863</td>\n",
       "      <td>139.5005</td>\n",
       "    </tr>\n",
       "    <tr>\n",
       "      <th>20</th>\n",
       "      <td>도봉구</td>\n",
       "      <td>33944232.0</td>\n",
       "      <td>5</td>\n",
       "      <td>81</td>\n",
       "      <td>41355</td>\n",
       "      <td>101.8877</td>\n",
       "    </tr>\n",
       "    <tr>\n",
       "      <th>21</th>\n",
       "      <td>관악구</td>\n",
       "      <td>33653264.0</td>\n",
       "      <td>4</td>\n",
       "      <td>122</td>\n",
       "      <td>46900</td>\n",
       "      <td>110.7597</td>\n",
       "    </tr>\n",
       "    <tr>\n",
       "      <th>22</th>\n",
       "      <td>중랑구</td>\n",
       "      <td>32823432.0</td>\n",
       "      <td>8</td>\n",
       "      <td>124</td>\n",
       "      <td>46717</td>\n",
       "      <td>110.4669</td>\n",
       "    </tr>\n",
       "    <tr>\n",
       "      <th>23</th>\n",
       "      <td>금천구</td>\n",
       "      <td>32511710.0</td>\n",
       "      <td>1</td>\n",
       "      <td>73</td>\n",
       "      <td>25631</td>\n",
       "      <td>76.7293</td>\n",
       "    </tr>\n",
       "    <tr>\n",
       "      <th>24</th>\n",
       "      <td>강북구</td>\n",
       "      <td>31041123.0</td>\n",
       "      <td>1</td>\n",
       "      <td>119</td>\n",
       "      <td>34944</td>\n",
       "      <td>91.6301</td>\n",
       "    </tr>\n",
       "  </tbody>\n",
       "</table>\n",
       "</div>"
      ],
      "text/plain": [
       "     자치구    1인당 총 급여  소아청소년과 병원 수  소아청소년과 의원 수  미성년자인구수  expectation\n",
       "0    강남구  81053206.0           10          201    93867     185.9069\n",
       "1    서초구  80510746.0            5          141    76176     157.6013\n",
       "2    용산구  69795335.0            2           66    27345      79.4717\n",
       "3    송파구  55703664.0            4          257   106008     205.3325\n",
       "4    성동구  52498140.0            2          114    38125      96.7197\n",
       "5    종로구  52233029.0            6           49    17365      63.5037\n",
       "6    마포구  51249929.0            1          131    51366     117.9053\n",
       "7     중구  49499323.0            3           59    12773      56.1565\n",
       "8    양천구  49391500.0            5          101    79006     162.1293\n",
       "9   영등포구  47450278.0            6          136    48396     113.1533\n",
       "10  서대문구  44647890.0            4           67    41374     101.9181\n",
       "11   강동구  44191868.0            5          116    73171     152.7933\n",
       "12   동작구  44188900.0            5          122    49959     115.6541\n",
       "13   성북구  42202897.0            3           99    63312     137.0189\n",
       "14   광진구  40772493.0            5          141    42518     103.7485\n",
       "15   노원구  40073375.0            9          124    80970     165.2717\n",
       "16   강서구  39478474.0            8          197    80163     163.9805\n",
       "17  동대문구  37884712.0            7          118    42357     103.4909\n",
       "18   구로구  37383095.0            6          133    55158     123.9725\n",
       "19   은평구  36915161.0            8          156    64863     139.5005\n",
       "20   도봉구  33944232.0            5           81    41355     101.8877\n",
       "21   관악구  33653264.0            4          122    46900     110.7597\n",
       "22   중랑구  32823432.0            8          124    46717     110.4669\n",
       "23   금천구  32511710.0            1           73    25631      76.7293\n",
       "24   강북구  31041123.0            1          119    34944      91.6301"
      ]
     },
     "execution_count": 29,
     "metadata": {},
     "output_type": "execute_result"
    }
   ],
   "source": [
    "df"
   ]
  },
  {
   "cell_type": "code",
   "execution_count": 30,
   "id": "5d11c549",
   "metadata": {},
   "outputs": [
    {
     "data": {
      "text/html": [
       "<div>\n",
       "<style scoped>\n",
       "    .dataframe tbody tr th:only-of-type {\n",
       "        vertical-align: middle;\n",
       "    }\n",
       "\n",
       "    .dataframe tbody tr th {\n",
       "        vertical-align: top;\n",
       "    }\n",
       "\n",
       "    .dataframe thead th {\n",
       "        text-align: right;\n",
       "    }\n",
       "</style>\n",
       "<table border=\"1\" class=\"dataframe\">\n",
       "  <thead>\n",
       "    <tr style=\"text-align: right;\">\n",
       "      <th></th>\n",
       "      <th>자치구</th>\n",
       "      <th>1인당 총 급여</th>\n",
       "      <th>소아청소년과 병원 수</th>\n",
       "      <th>소아청소년과 의원 수</th>\n",
       "      <th>미성년자인구수</th>\n",
       "      <th>expectation</th>\n",
       "      <th>difference</th>\n",
       "    </tr>\n",
       "  </thead>\n",
       "  <tbody>\n",
       "    <tr>\n",
       "      <th>0</th>\n",
       "      <td>강남구</td>\n",
       "      <td>81053206.0</td>\n",
       "      <td>10</td>\n",
       "      <td>201</td>\n",
       "      <td>93867</td>\n",
       "      <td>185.9069</td>\n",
       "      <td>-15.0931</td>\n",
       "    </tr>\n",
       "    <tr>\n",
       "      <th>1</th>\n",
       "      <td>서초구</td>\n",
       "      <td>80510746.0</td>\n",
       "      <td>5</td>\n",
       "      <td>141</td>\n",
       "      <td>76176</td>\n",
       "      <td>157.6013</td>\n",
       "      <td>16.6013</td>\n",
       "    </tr>\n",
       "    <tr>\n",
       "      <th>2</th>\n",
       "      <td>용산구</td>\n",
       "      <td>69795335.0</td>\n",
       "      <td>2</td>\n",
       "      <td>66</td>\n",
       "      <td>27345</td>\n",
       "      <td>79.4717</td>\n",
       "      <td>13.4717</td>\n",
       "    </tr>\n",
       "    <tr>\n",
       "      <th>3</th>\n",
       "      <td>송파구</td>\n",
       "      <td>55703664.0</td>\n",
       "      <td>4</td>\n",
       "      <td>257</td>\n",
       "      <td>106008</td>\n",
       "      <td>205.3325</td>\n",
       "      <td>-51.6675</td>\n",
       "    </tr>\n",
       "    <tr>\n",
       "      <th>4</th>\n",
       "      <td>성동구</td>\n",
       "      <td>52498140.0</td>\n",
       "      <td>2</td>\n",
       "      <td>114</td>\n",
       "      <td>38125</td>\n",
       "      <td>96.7197</td>\n",
       "      <td>-17.2803</td>\n",
       "    </tr>\n",
       "    <tr>\n",
       "      <th>5</th>\n",
       "      <td>종로구</td>\n",
       "      <td>52233029.0</td>\n",
       "      <td>6</td>\n",
       "      <td>49</td>\n",
       "      <td>17365</td>\n",
       "      <td>63.5037</td>\n",
       "      <td>14.5037</td>\n",
       "    </tr>\n",
       "    <tr>\n",
       "      <th>6</th>\n",
       "      <td>마포구</td>\n",
       "      <td>51249929.0</td>\n",
       "      <td>1</td>\n",
       "      <td>131</td>\n",
       "      <td>51366</td>\n",
       "      <td>117.9053</td>\n",
       "      <td>-13.0947</td>\n",
       "    </tr>\n",
       "    <tr>\n",
       "      <th>7</th>\n",
       "      <td>중구</td>\n",
       "      <td>49499323.0</td>\n",
       "      <td>3</td>\n",
       "      <td>59</td>\n",
       "      <td>12773</td>\n",
       "      <td>56.1565</td>\n",
       "      <td>-2.8435</td>\n",
       "    </tr>\n",
       "    <tr>\n",
       "      <th>8</th>\n",
       "      <td>양천구</td>\n",
       "      <td>49391500.0</td>\n",
       "      <td>5</td>\n",
       "      <td>101</td>\n",
       "      <td>79006</td>\n",
       "      <td>162.1293</td>\n",
       "      <td>61.1293</td>\n",
       "    </tr>\n",
       "    <tr>\n",
       "      <th>9</th>\n",
       "      <td>영등포구</td>\n",
       "      <td>47450278.0</td>\n",
       "      <td>6</td>\n",
       "      <td>136</td>\n",
       "      <td>48396</td>\n",
       "      <td>113.1533</td>\n",
       "      <td>-22.8467</td>\n",
       "    </tr>\n",
       "    <tr>\n",
       "      <th>10</th>\n",
       "      <td>서대문구</td>\n",
       "      <td>44647890.0</td>\n",
       "      <td>4</td>\n",
       "      <td>67</td>\n",
       "      <td>41374</td>\n",
       "      <td>101.9181</td>\n",
       "      <td>34.9181</td>\n",
       "    </tr>\n",
       "    <tr>\n",
       "      <th>11</th>\n",
       "      <td>강동구</td>\n",
       "      <td>44191868.0</td>\n",
       "      <td>5</td>\n",
       "      <td>116</td>\n",
       "      <td>73171</td>\n",
       "      <td>152.7933</td>\n",
       "      <td>36.7933</td>\n",
       "    </tr>\n",
       "    <tr>\n",
       "      <th>12</th>\n",
       "      <td>동작구</td>\n",
       "      <td>44188900.0</td>\n",
       "      <td>5</td>\n",
       "      <td>122</td>\n",
       "      <td>49959</td>\n",
       "      <td>115.6541</td>\n",
       "      <td>-6.3459</td>\n",
       "    </tr>\n",
       "    <tr>\n",
       "      <th>13</th>\n",
       "      <td>성북구</td>\n",
       "      <td>42202897.0</td>\n",
       "      <td>3</td>\n",
       "      <td>99</td>\n",
       "      <td>63312</td>\n",
       "      <td>137.0189</td>\n",
       "      <td>38.0189</td>\n",
       "    </tr>\n",
       "    <tr>\n",
       "      <th>14</th>\n",
       "      <td>광진구</td>\n",
       "      <td>40772493.0</td>\n",
       "      <td>5</td>\n",
       "      <td>141</td>\n",
       "      <td>42518</td>\n",
       "      <td>103.7485</td>\n",
       "      <td>-37.2515</td>\n",
       "    </tr>\n",
       "    <tr>\n",
       "      <th>15</th>\n",
       "      <td>노원구</td>\n",
       "      <td>40073375.0</td>\n",
       "      <td>9</td>\n",
       "      <td>124</td>\n",
       "      <td>80970</td>\n",
       "      <td>165.2717</td>\n",
       "      <td>41.2717</td>\n",
       "    </tr>\n",
       "    <tr>\n",
       "      <th>16</th>\n",
       "      <td>강서구</td>\n",
       "      <td>39478474.0</td>\n",
       "      <td>8</td>\n",
       "      <td>197</td>\n",
       "      <td>80163</td>\n",
       "      <td>163.9805</td>\n",
       "      <td>-33.0195</td>\n",
       "    </tr>\n",
       "    <tr>\n",
       "      <th>17</th>\n",
       "      <td>동대문구</td>\n",
       "      <td>37884712.0</td>\n",
       "      <td>7</td>\n",
       "      <td>118</td>\n",
       "      <td>42357</td>\n",
       "      <td>103.4909</td>\n",
       "      <td>-14.5091</td>\n",
       "    </tr>\n",
       "    <tr>\n",
       "      <th>18</th>\n",
       "      <td>구로구</td>\n",
       "      <td>37383095.0</td>\n",
       "      <td>6</td>\n",
       "      <td>133</td>\n",
       "      <td>55158</td>\n",
       "      <td>123.9725</td>\n",
       "      <td>-9.0275</td>\n",
       "    </tr>\n",
       "    <tr>\n",
       "      <th>19</th>\n",
       "      <td>은평구</td>\n",
       "      <td>36915161.0</td>\n",
       "      <td>8</td>\n",
       "      <td>156</td>\n",
       "      <td>64863</td>\n",
       "      <td>139.5005</td>\n",
       "      <td>-16.4995</td>\n",
       "    </tr>\n",
       "    <tr>\n",
       "      <th>20</th>\n",
       "      <td>도봉구</td>\n",
       "      <td>33944232.0</td>\n",
       "      <td>5</td>\n",
       "      <td>81</td>\n",
       "      <td>41355</td>\n",
       "      <td>101.8877</td>\n",
       "      <td>20.8877</td>\n",
       "    </tr>\n",
       "    <tr>\n",
       "      <th>21</th>\n",
       "      <td>관악구</td>\n",
       "      <td>33653264.0</td>\n",
       "      <td>4</td>\n",
       "      <td>122</td>\n",
       "      <td>46900</td>\n",
       "      <td>110.7597</td>\n",
       "      <td>-11.2403</td>\n",
       "    </tr>\n",
       "    <tr>\n",
       "      <th>22</th>\n",
       "      <td>중랑구</td>\n",
       "      <td>32823432.0</td>\n",
       "      <td>8</td>\n",
       "      <td>124</td>\n",
       "      <td>46717</td>\n",
       "      <td>110.4669</td>\n",
       "      <td>-13.5331</td>\n",
       "    </tr>\n",
       "    <tr>\n",
       "      <th>23</th>\n",
       "      <td>금천구</td>\n",
       "      <td>32511710.0</td>\n",
       "      <td>1</td>\n",
       "      <td>73</td>\n",
       "      <td>25631</td>\n",
       "      <td>76.7293</td>\n",
       "      <td>3.7293</td>\n",
       "    </tr>\n",
       "    <tr>\n",
       "      <th>24</th>\n",
       "      <td>강북구</td>\n",
       "      <td>31041123.0</td>\n",
       "      <td>1</td>\n",
       "      <td>119</td>\n",
       "      <td>34944</td>\n",
       "      <td>91.6301</td>\n",
       "      <td>-27.3699</td>\n",
       "    </tr>\n",
       "  </tbody>\n",
       "</table>\n",
       "</div>"
      ],
      "text/plain": [
       "     자치구    1인당 총 급여  소아청소년과 병원 수  소아청소년과 의원 수  미성년자인구수  expectation  \\\n",
       "0    강남구  81053206.0           10          201    93867     185.9069   \n",
       "1    서초구  80510746.0            5          141    76176     157.6013   \n",
       "2    용산구  69795335.0            2           66    27345      79.4717   \n",
       "3    송파구  55703664.0            4          257   106008     205.3325   \n",
       "4    성동구  52498140.0            2          114    38125      96.7197   \n",
       "5    종로구  52233029.0            6           49    17365      63.5037   \n",
       "6    마포구  51249929.0            1          131    51366     117.9053   \n",
       "7     중구  49499323.0            3           59    12773      56.1565   \n",
       "8    양천구  49391500.0            5          101    79006     162.1293   \n",
       "9   영등포구  47450278.0            6          136    48396     113.1533   \n",
       "10  서대문구  44647890.0            4           67    41374     101.9181   \n",
       "11   강동구  44191868.0            5          116    73171     152.7933   \n",
       "12   동작구  44188900.0            5          122    49959     115.6541   \n",
       "13   성북구  42202897.0            3           99    63312     137.0189   \n",
       "14   광진구  40772493.0            5          141    42518     103.7485   \n",
       "15   노원구  40073375.0            9          124    80970     165.2717   \n",
       "16   강서구  39478474.0            8          197    80163     163.9805   \n",
       "17  동대문구  37884712.0            7          118    42357     103.4909   \n",
       "18   구로구  37383095.0            6          133    55158     123.9725   \n",
       "19   은평구  36915161.0            8          156    64863     139.5005   \n",
       "20   도봉구  33944232.0            5           81    41355     101.8877   \n",
       "21   관악구  33653264.0            4          122    46900     110.7597   \n",
       "22   중랑구  32823432.0            8          124    46717     110.4669   \n",
       "23   금천구  32511710.0            1           73    25631      76.7293   \n",
       "24   강북구  31041123.0            1          119    34944      91.6301   \n",
       "\n",
       "    difference  \n",
       "0     -15.0931  \n",
       "1      16.6013  \n",
       "2      13.4717  \n",
       "3     -51.6675  \n",
       "4     -17.2803  \n",
       "5      14.5037  \n",
       "6     -13.0947  \n",
       "7      -2.8435  \n",
       "8      61.1293  \n",
       "9     -22.8467  \n",
       "10     34.9181  \n",
       "11     36.7933  \n",
       "12     -6.3459  \n",
       "13     38.0189  \n",
       "14    -37.2515  \n",
       "15     41.2717  \n",
       "16    -33.0195  \n",
       "17    -14.5091  \n",
       "18     -9.0275  \n",
       "19    -16.4995  \n",
       "20     20.8877  \n",
       "21    -11.2403  \n",
       "22    -13.5331  \n",
       "23      3.7293  \n",
       "24    -27.3699  "
      ]
     },
     "execution_count": 30,
     "metadata": {},
     "output_type": "execute_result"
    }
   ],
   "source": [
    "# expectation - 소아청소년과 의원의 수 => difference 라는 컬럼을 만듦\n",
    "df['difference'] = df['expectation'] - df['소아청소년과 의원 수']\n",
    "df"
   ]
  },
  {
   "cell_type": "code",
   "execution_count": 31,
   "id": "2f5bd4d1",
   "metadata": {},
   "outputs": [
    {
     "data": {
      "application/vnd.plotly.v1+json": {
       "config": {
        "plotlyServerURL": "https://plot.ly"
       },
       "data": [
        {
         "coloraxis": "coloraxis",
         "geo": "geo",
         "geojson": {
          "features": [
           {
            "geometry": {
             "coordinates": [
              [
               [
                127.11519584981606,
                37.557533180704915
               ],
               [
                127.16683184366129,
                37.57672487388627
               ],
               [
                127.18408792330152,
                37.55814280369575
               ],
               [
                127.16530984307447,
                37.54221851258693
               ],
               [
                127.14672806823502,
                37.51415680680291
               ],
               [
                127.12123165719615,
                37.52528270089
               ],
               [
                127.1116764203608,
                37.540669955324965
               ],
               [
                127.11519584981606,
                37.557533180704915
               ]
              ]
             ],
             "type": "Polygon"
            },
            "id": "강동구",
            "properties": {
             "base_year": "2013",
             "code": "11250",
             "name": "강동구",
             "name_eng": "Gangdong-gu"
            },
            "type": "Feature"
           },
           {
            "geometry": {
             "coordinates": [
              [
               [
                127.0690698130372,
                37.522279423505026
               ],
               [
                127.10087519791962,
                37.524841220167055
               ],
               [
                127.1116764203608,
                37.540669955324965
               ],
               [
                127.12123165719615,
                37.52528270089
               ],
               [
                127.14672806823502,
                37.51415680680291
               ],
               [
                127.1634944215765,
                37.497445406097484
               ],
               [
                127.14206058413274,
                37.47089819098501
               ],
               [
                127.12440571080893,
                37.46240445587048
               ],
               [
                127.11117085201238,
                37.485708381512445
               ],
               [
                127.0719146000724,
                37.50224013587669
               ],
               [
                127.0690698130372,
                37.522279423505026
               ]
              ]
             ],
             "type": "Polygon"
            },
            "id": "송파구",
            "properties": {
             "base_year": "2013",
             "code": "11240",
             "name": "송파구",
             "name_eng": "Songpa-gu"
            },
            "type": "Feature"
           },
           {
            "geometry": {
             "coordinates": [
              [
               [
                127.05867359288398,
                37.52629974922568
               ],
               [
                127.0690698130372,
                37.522279423505026
               ],
               [
                127.0719146000724,
                37.50224013587669
               ],
               [
                127.11117085201238,
                37.485708381512445
               ],
               [
                127.12440571080893,
                37.46240445587048
               ],
               [
                127.09842759318751,
                37.45862253857461
               ],
               [
                127.08640440578156,
                37.472697935184655
               ],
               [
                127.0559170481904,
                37.4659228914077
               ],
               [
                127.03621915098798,
                37.48175802427603
               ],
               [
                127.01397119667513,
                37.52503988289669
               ],
               [
                127.02302831890559,
                37.53231899582663
               ],
               [
                127.05867359288398,
                37.52629974922568
               ]
              ]
             ],
             "type": "Polygon"
            },
            "id": "강남구",
            "properties": {
             "base_year": "2013",
             "code": "11230",
             "name": "강남구",
             "name_eng": "Gangnam-gu"
            },
            "type": "Feature"
           },
           {
            "geometry": {
             "coordinates": [
              [
               [
                127.01397119667513,
                37.52503988289669
               ],
               [
                127.03621915098798,
                37.48175802427603
               ],
               [
                127.0559170481904,
                37.4659228914077
               ],
               [
                127.08640440578156,
                37.472697935184655
               ],
               [
                127.09842759318751,
                37.45862253857461
               ],
               [
                127.09046928565951,
                37.44296826114185
               ],
               [
                127.06778107605433,
                37.426197424057314
               ],
               [
                127.04957232987142,
                37.42805836845694
               ],
               [
                127.03881782597922,
                37.45382039851715
               ],
               [
                126.99072073195462,
                37.455326143310025
               ],
               [
                126.98367668291802,
                37.473856492692086
               ],
               [
                126.98223807916081,
                37.509314966770326
               ],
               [
                127.01397119667513,
                37.52503988289669
               ]
              ]
             ],
             "type": "Polygon"
            },
            "id": "서초구",
            "properties": {
             "base_year": "2013",
             "code": "11220",
             "name": "서초구",
             "name_eng": "Seocho-gu"
            },
            "type": "Feature"
           },
           {
            "geometry": {
             "coordinates": [
              [
               [
                126.98367668291802,
                37.473856492692086
               ],
               [
                126.99072073195462,
                37.455326143310025
               ],
               [
                126.96520439085143,
                37.438249784006246
               ],
               [
                126.95000001010182,
                37.43613451165719
               ],
               [
                126.93084408056525,
                37.447382928333994
               ],
               [
                126.9167728146601,
                37.45490566423789
               ],
               [
                126.90156094129895,
                37.47753842789901
               ],
               [
                126.90531975801812,
                37.48218087575429
               ],
               [
                126.94922661389508,
                37.49125437495649
               ],
               [
                126.9725891850662,
                37.472561363278125
               ],
               [
                126.98367668291802,
                37.473856492692086
               ]
              ]
             ],
             "type": "Polygon"
            },
            "id": "관악구",
            "properties": {
             "base_year": "2013",
             "code": "11210",
             "name": "관악구",
             "name_eng": "Gwanak-gu"
            },
            "type": "Feature"
           },
           {
            "geometry": {
             "coordinates": [
              [
               [
                126.98223807916081,
                37.509314966770326
               ],
               [
                126.98367668291802,
                37.473856492692086
               ],
               [
                126.9725891850662,
                37.472561363278125
               ],
               [
                126.94922661389508,
                37.49125437495649
               ],
               [
                126.90531975801812,
                37.48218087575429
               ],
               [
                126.92177893174825,
                37.494889877415176
               ],
               [
                126.92810628828279,
                37.51329595732015
               ],
               [
                126.95249990298159,
                37.51722500741813
               ],
               [
                126.98223807916081,
                37.509314966770326
               ]
              ]
             ],
             "type": "Polygon"
            },
            "id": "동작구",
            "properties": {
             "base_year": "2013",
             "code": "11200",
             "name": "동작구",
             "name_eng": "Dongjak-gu"
            },
            "type": "Feature"
           },
           {
            "geometry": {
             "coordinates": [
              [
               [
                126.89184663862764,
                37.547373974997114
               ],
               [
                126.94566733083212,
                37.526617542453366
               ],
               [
                126.95249990298159,
                37.51722500741813
               ],
               [
                126.92810628828279,
                37.51329595732015
               ],
               [
                126.92177893174825,
                37.494889877415176
               ],
               [
                126.90531975801812,
                37.48218087575429
               ],
               [
                126.89594776782485,
                37.504675281309176
               ],
               [
                126.88156402353862,
                37.513970034765684
               ],
               [
                126.88825757860099,
                37.54079733630232
               ],
               [
                126.89184663862764,
                37.547373974997114
               ]
              ]
             ],
             "type": "Polygon"
            },
            "id": "영등포구",
            "properties": {
             "base_year": "2013",
             "code": "11190",
             "name": "영등포구",
             "name_eng": "Yeongdeungpo-gu"
            },
            "type": "Feature"
           },
           {
            "geometry": {
             "coordinates": [
              [
               [
                126.90156094129895,
                37.47753842789901
               ],
               [
                126.9167728146601,
                37.45490566423789
               ],
               [
                126.93084408056525,
                37.447382928333994
               ],
               [
                126.9025831711697,
                37.434549366349124
               ],
               [
                126.87683271502428,
                37.482576591607305
               ],
               [
                126.90156094129895,
                37.47753842789901
               ]
              ]
             ],
             "type": "Polygon"
            },
            "id": "금천구",
            "properties": {
             "base_year": "2013",
             "code": "11180",
             "name": "금천구",
             "name_eng": "Geumcheon-gu"
            },
            "type": "Feature"
           },
           {
            "geometry": {
             "coordinates": [
              [
               [
                126.82688081517314,
                37.50548972232896
               ],
               [
                126.88156402353862,
                37.513970034765684
               ],
               [
                126.89594776782485,
                37.504675281309176
               ],
               [
                126.90531975801812,
                37.48218087575429
               ],
               [
                126.90156094129895,
                37.47753842789901
               ],
               [
                126.87683271502428,
                37.482576591607305
               ],
               [
                126.84762676054953,
                37.47146723936323
               ],
               [
                126.83549485076196,
                37.474098236975095
               ],
               [
                126.82264796791348,
                37.4878476492147
               ],
               [
                126.82504736331406,
                37.50302612640443
               ],
               [
                126.82688081517314,
                37.50548972232896
               ]
              ]
             ],
             "type": "Polygon"
            },
            "id": "구로구",
            "properties": {
             "base_year": "2013",
             "code": "11170",
             "name": "구로구",
             "name_eng": "Guro-gu"
            },
            "type": "Feature"
           },
           {
            "geometry": {
             "coordinates": [
              [
               [
                126.79575768552907,
                37.57881087633202
               ],
               [
                126.80702115023597,
                37.60123001013228
               ],
               [
                126.82251438477105,
                37.5880430810082
               ],
               [
                126.85984199399667,
                37.571847855292745
               ],
               [
                126.89184663862764,
                37.547373974997114
               ],
               [
                126.88825757860099,
                37.54079733630232
               ],
               [
                126.86637464321238,
                37.54859191094823
               ],
               [
                126.86610073476395,
                37.52699964144669
               ],
               [
                126.84257291943153,
                37.52373707805596
               ],
               [
                126.8242331426722,
                37.53788078753248
               ],
               [
                126.77324417717703,
                37.5459123450554
               ],
               [
                126.76979180579352,
                37.55139183008809
               ],
               [
                126.79575768552907,
                37.57881087633202
               ]
              ]
             ],
             "type": "Polygon"
            },
            "id": "강서구",
            "properties": {
             "base_year": "2013",
             "code": "11160",
             "name": "강서구",
             "name_eng": "Gangseo-gu"
            },
            "type": "Feature"
           },
           {
            "geometry": {
             "coordinates": [
              [
               [
                126.8242331426722,
                37.53788078753248
               ],
               [
                126.84257291943153,
                37.52373707805596
               ],
               [
                126.86610073476395,
                37.52699964144669
               ],
               [
                126.86637464321238,
                37.54859191094823
               ],
               [
                126.88825757860099,
                37.54079733630232
               ],
               [
                126.88156402353862,
                37.513970034765684
               ],
               [
                126.82688081517314,
                37.50548972232896
               ],
               [
                126.8242331426722,
                37.53788078753248
               ]
              ]
             ],
             "type": "Polygon"
            },
            "id": "양천구",
            "properties": {
             "base_year": "2013",
             "code": "11150",
             "name": "양천구",
             "name_eng": "Yangcheon-gu"
            },
            "type": "Feature"
           },
           {
            "geometry": {
             "coordinates": [
              [
               [
                126.90522065831053,
                37.57409700522574
               ],
               [
                126.93898161798973,
                37.552310003728124
               ],
               [
                126.96358226710812,
                37.55605635475154
               ],
               [
                126.96448570553055,
                37.548705692021635
               ],
               [
                126.94566733083212,
                37.526617542453366
               ],
               [
                126.89184663862764,
                37.547373974997114
               ],
               [
                126.85984199399667,
                37.571847855292745
               ],
               [
                126.88433284773288,
                37.588143322880526
               ],
               [
                126.90522065831053,
                37.57409700522574
               ]
              ]
             ],
             "type": "Polygon"
            },
            "id": "마포구",
            "properties": {
             "base_year": "2013",
             "code": "11140",
             "name": "마포구",
             "name_eng": "Mapo-gu"
            },
            "type": "Feature"
           },
           {
            "geometry": {
             "coordinates": [
              [
               [
                126.9524752030572,
                37.60508692737045
               ],
               [
                126.95565425846463,
                37.576080790881456
               ],
               [
                126.96873633279075,
                37.56313604690827
               ],
               [
                126.96358226710812,
                37.55605635475154
               ],
               [
                126.93898161798973,
                37.552310003728124
               ],
               [
                126.90522065831053,
                37.57409700522574
               ],
               [
                126.9524752030572,
                37.60508692737045
               ]
              ]
             ],
             "type": "Polygon"
            },
            "id": "서대문구",
            "properties": {
             "base_year": "2013",
             "code": "11130",
             "name": "서대문구",
             "name_eng": "Seodaemun-gu"
            },
            "type": "Feature"
           },
           {
            "geometry": {
             "coordinates": [
              [
               [
                126.9738864128702,
                37.62949634786888
               ],
               [
                126.95427017006129,
                37.622033431339425
               ],
               [
                126.9524752030572,
                37.60508692737045
               ],
               [
                126.90522065831053,
                37.57409700522574
               ],
               [
                126.88433284773288,
                37.588143322880526
               ],
               [
                126.90396681003595,
                37.59227403419942
               ],
               [
                126.90303066177668,
                37.609977911401344
               ],
               [
                126.91455481429648,
                37.64150050996935
               ],
               [
                126.956473797387,
                37.652480737339445
               ],
               [
                126.9738864128702,
                37.62949634786888
               ]
              ]
             ],
             "type": "Polygon"
            },
            "id": "은평구",
            "properties": {
             "base_year": "2013",
             "code": "11120",
             "name": "은평구",
             "name_eng": "Eunpyeong-gu"
            },
            "type": "Feature"
           },
           {
            "geometry": {
             "coordinates": [
              [
               [
                127.0838752703195,
                37.69359534202034
               ],
               [
                127.09706391309695,
                37.686383719372294
               ],
               [
                127.09440766298717,
                37.64713490473045
               ],
               [
                127.11326795855199,
                37.639622905315925
               ],
               [
                127.10782277688129,
                37.61804244241069
               ],
               [
                127.07351243825278,
                37.61283660342313
               ],
               [
                127.05209373568619,
                37.62164065487782
               ],
               [
                127.04358800895609,
                37.62848931298715
               ],
               [
                127.05800075220091,
                37.64318263878276
               ],
               [
                127.05288479710485,
                37.68423857084347
               ],
               [
                127.0838752703195,
                37.69359534202034
               ]
              ]
             ],
             "type": "Polygon"
            },
            "id": "노원구",
            "properties": {
             "base_year": "2013",
             "code": "11110",
             "name": "노원구",
             "name_eng": "Nowon-gu"
            },
            "type": "Feature"
           },
           {
            "geometry": {
             "coordinates": [
              [
               [
                127.05288479710485,
                37.68423857084347
               ],
               [
                127.05800075220091,
                37.64318263878276
               ],
               [
                127.04358800895609,
                37.62848931298715
               ],
               [
                127.01465935892466,
                37.64943687496812
               ],
               [
                127.02062116141389,
                37.667173575971205
               ],
               [
                127.01039666042071,
                37.681894589603594
               ],
               [
                127.01795099203432,
                37.69824412775662
               ],
               [
                127.05288479710485,
                37.68423857084347
               ]
              ]
             ],
             "type": "Polygon"
            },
            "id": "도봉구",
            "properties": {
             "base_year": "2013",
             "code": "11100",
             "name": "도봉구",
             "name_eng": "Dobong-gu"
            },
            "type": "Feature"
           },
           {
            "geometry": {
             "coordinates": [
              [
               [
                126.99383903424,
                37.676681761199085
               ],
               [
                127.01039666042071,
                37.681894589603594
               ],
               [
                127.02062116141389,
                37.667173575971205
               ],
               [
                127.01465935892466,
                37.64943687496812
               ],
               [
                127.04358800895609,
                37.62848931298715
               ],
               [
                127.05209373568619,
                37.62164065487782
               ],
               [
                127.03892400992301,
                37.609715611023816
               ],
               [
                127.0128154749523,
                37.613652243470256
               ],
               [
                126.98672705513869,
                37.63377641288196
               ],
               [
                126.9817452676551,
                37.65209769387776
               ],
               [
                126.99383903424,
                37.676681761199085
               ]
              ]
             ],
             "type": "Polygon"
            },
            "id": "강북구",
            "properties": {
             "base_year": "2013",
             "code": "11090",
             "name": "강북구",
             "name_eng": "Gangbuk-gu"
            },
            "type": "Feature"
           },
           {
            "geometry": {
             "coordinates": [
              [
               [
                126.977175406416,
                37.62859715400388
               ],
               [
                126.98672705513869,
                37.63377641288196
               ],
               [
                127.0128154749523,
                37.613652243470256
               ],
               [
                127.03892400992301,
                37.609715611023816
               ],
               [
                127.05209373568619,
                37.62164065487782
               ],
               [
                127.07351243825278,
                37.61283660342313
               ],
               [
                127.07382707099227,
                37.60401928986419
               ],
               [
                127.042705222094,
                37.59239437593391
               ],
               [
                127.02527254528003,
                37.57524616245249
               ],
               [
                126.99348293358314,
                37.588565457216156
               ],
               [
                126.98879865992384,
                37.6118927319756
               ],
               [
                126.977175406416,
                37.62859715400388
               ]
              ]
             ],
             "type": "Polygon"
            },
            "id": "성북구",
            "properties": {
             "base_year": "2013",
             "code": "11080",
             "name": "성북구",
             "name_eng": "Seongbuk-gu"
            },
            "type": "Feature"
           },
           {
            "geometry": {
             "coordinates": [
              [
               [
                127.07351243825278,
                37.61283660342313
               ],
               [
                127.10782277688129,
                37.61804244241069
               ],
               [
                127.1201246020114,
                37.60178457598188
               ],
               [
                127.10304174249214,
                37.57076342290955
               ],
               [
                127.08068541280403,
                37.56906425519017
               ],
               [
                127.07382707099227,
                37.60401928986419
               ],
               [
                127.07351243825278,
                37.61283660342313
               ]
              ]
             ],
             "type": "Polygon"
            },
            "id": "중랑구",
            "properties": {
             "base_year": "2013",
             "code": "11070",
             "name": "중랑구",
             "name_eng": "Jungnang-gu"
            },
            "type": "Feature"
           },
           {
            "geometry": {
             "coordinates": [
              [
               [
                127.02527254528003,
                37.57524616245249
               ],
               [
                127.042705222094,
                37.59239437593391
               ],
               [
                127.07382707099227,
                37.60401928986419
               ],
               [
                127.08068541280403,
                37.56906425519017
               ],
               [
                127.07421053024362,
                37.55724769712085
               ],
               [
                127.05005601081567,
                37.567577612590846
               ],
               [
                127.02547266349976,
                37.568943552237734
               ],
               [
                127.02527254528003,
                37.57524616245249
               ]
              ]
             ],
             "type": "Polygon"
            },
            "id": "동대문구",
            "properties": {
             "base_year": "2013",
             "code": "11060",
             "name": "동대문구",
             "name_eng": "Dongdaemun-gu"
            },
            "type": "Feature"
           },
           {
            "geometry": {
             "coordinates": [
              [
               [
                127.08068541280403,
                37.56906425519017
               ],
               [
                127.10304174249214,
                37.57076342290955
               ],
               [
                127.11519584981606,
                37.557533180704915
               ],
               [
                127.1116764203608,
                37.540669955324965
               ],
               [
                127.10087519791962,
                37.524841220167055
               ],
               [
                127.0690698130372,
                37.522279423505026
               ],
               [
                127.05867359288398,
                37.52629974922568
               ],
               [
                127.07421053024362,
                37.55724769712085
               ],
               [
                127.08068541280403,
                37.56906425519017
               ]
              ]
             ],
             "type": "Polygon"
            },
            "id": "광진구",
            "properties": {
             "base_year": "2013",
             "code": "11050",
             "name": "광진구",
             "name_eng": "Gwangjin-gu"
            },
            "type": "Feature"
           },
           {
            "geometry": {
             "coordinates": [
              [
               [
                127.02547266349976,
                37.568943552237734
               ],
               [
                127.05005601081567,
                37.567577612590846
               ],
               [
                127.07421053024362,
                37.55724769712085
               ],
               [
                127.05867359288398,
                37.52629974922568
               ],
               [
                127.02302831890559,
                37.53231899582663
               ],
               [
                127.01070894177482,
                37.54118048964762
               ],
               [
                127.02547266349976,
                37.568943552237734
               ]
              ]
             ],
             "type": "Polygon"
            },
            "id": "성동구",
            "properties": {
             "base_year": "2013",
             "code": "11040",
             "name": "성동구",
             "name_eng": "Seongdong-gu"
            },
            "type": "Feature"
           },
           {
            "geometry": {
             "coordinates": [
              [
               [
                127.01070894177482,
                37.54118048964762
               ],
               [
                127.02302831890559,
                37.53231899582663
               ],
               [
                127.01397119667513,
                37.52503988289669
               ],
               [
                126.98223807916081,
                37.509314966770326
               ],
               [
                126.95249990298159,
                37.51722500741813
               ],
               [
                126.94566733083212,
                37.526617542453366
               ],
               [
                126.96448570553055,
                37.548705692021635
               ],
               [
                126.98752996903328,
                37.55094818807139
               ],
               [
                127.01070894177482,
                37.54118048964762
               ]
              ]
             ],
             "type": "Polygon"
            },
            "id": "용산구",
            "properties": {
             "base_year": "2013",
             "code": "11030",
             "name": "용산구",
             "name_eng": "Yongsan-gu"
            },
            "type": "Feature"
           },
           {
            "geometry": {
             "coordinates": [
              [
               [
                127.02547266349976,
                37.568943552237734
               ],
               [
                127.01070894177482,
                37.54118048964762
               ],
               [
                126.98752996903328,
                37.55094818807139
               ],
               [
                126.96448570553055,
                37.548705692021635
               ],
               [
                126.96358226710812,
                37.55605635475154
               ],
               [
                126.96873633279075,
                37.56313604690827
               ],
               [
                127.02547266349976,
                37.568943552237734
               ]
              ]
             ],
             "type": "Polygon"
            },
            "id": "중구",
            "properties": {
             "base_year": "2013",
             "code": "11020",
             "name": "중구",
             "name_eng": "Jung-gu"
            },
            "type": "Feature"
           },
           {
            "geometry": {
             "coordinates": [
              [
               [
                126.9738864128702,
                37.62949634786888
               ],
               [
                126.977175406416,
                37.62859715400388
               ],
               [
                126.98879865992384,
                37.6118927319756
               ],
               [
                126.99348293358314,
                37.588565457216156
               ],
               [
                127.02527254528003,
                37.57524616245249
               ],
               [
                127.02547266349976,
                37.568943552237734
               ],
               [
                126.96873633279075,
                37.56313604690827
               ],
               [
                126.95565425846463,
                37.576080790881456
               ],
               [
                126.9524752030572,
                37.60508692737045
               ],
               [
                126.95427017006129,
                37.622033431339425
               ],
               [
                126.9738864128702,
                37.62949634786888
               ]
              ]
             ],
             "type": "Polygon"
            },
            "id": "종로구",
            "properties": {
             "base_year": "2013",
             "code": "11010",
             "name": "종로구",
             "name_eng": "Jongno-gu"
            },
            "type": "Feature"
           }
          ],
          "type": "FeatureCollection"
         },
         "hovertemplate": "자치구=%{location}<br>difference=%{z}<extra></extra>",
         "locations": [
          "강남구",
          "서초구",
          "용산구",
          "송파구",
          "성동구",
          "종로구",
          "마포구",
          "중구",
          "양천구",
          "영등포구",
          "서대문구",
          "강동구",
          "동작구",
          "성북구",
          "광진구",
          "노원구",
          "강서구",
          "동대문구",
          "구로구",
          "은평구",
          "도봉구",
          "관악구",
          "중랑구",
          "금천구",
          "강북구"
         ],
         "name": "",
         "type": "choropleth",
         "z": [
          -15.093099999999993,
          16.60130000000001,
          13.471699999999998,
          -51.66749999999996,
          -17.280299999999997,
          14.50370000000001,
          -13.094699999999989,
          -2.8434999999999917,
          61.1293,
          -22.8467,
          34.91810000000001,
          36.79329999999999,
          -6.345899999999986,
          38.0189,
          -37.25149999999999,
          41.27170000000001,
          -33.019499999999994,
          -14.50909999999999,
          -9.02749999999999,
          -16.499500000000012,
          20.88770000000001,
          -11.24029999999999,
          -13.53309999999999,
          3.729299999999995,
          -27.3699
         ]
        }
       ],
       "layout": {
        "coloraxis": {
         "colorbar": {
          "title": {
           "text": "difference"
          }
         },
         "colorscale": [
          [
           0,
           "rgb(247,251,255)"
          ],
          [
           0.125,
           "rgb(222,235,247)"
          ],
          [
           0.25,
           "rgb(198,219,239)"
          ],
          [
           0.375,
           "rgb(158,202,225)"
          ],
          [
           0.5,
           "rgb(107,174,214)"
          ],
          [
           0.625,
           "rgb(66,146,198)"
          ],
          [
           0.75,
           "rgb(33,113,181)"
          ],
          [
           0.875,
           "rgb(8,81,156)"
          ],
          [
           1,
           "rgb(8,48,107)"
          ]
         ]
        },
        "geo": {
         "center": {},
         "domain": {
          "x": [
           0,
           1
          ],
          "y": [
           0,
           1
          ]
         },
         "fitbounds": "locations",
         "visible": false
        },
        "height": 400,
        "legend": {
         "tracegroupgap": 0
        },
        "mapbox": {
         "center": {
          "lat": 37.5665,
          "lon": 126.978
         },
         "style": "open-street-map",
         "zoom": 10
        },
        "margin": {
         "t": 60
        },
        "template": {
         "data": {
          "bar": [
           {
            "error_x": {
             "color": "#2a3f5f"
            },
            "error_y": {
             "color": "#2a3f5f"
            },
            "marker": {
             "line": {
              "color": "#E5ECF6",
              "width": 0.5
             },
             "pattern": {
              "fillmode": "overlay",
              "size": 10,
              "solidity": 0.2
             }
            },
            "type": "bar"
           }
          ],
          "barpolar": [
           {
            "marker": {
             "line": {
              "color": "#E5ECF6",
              "width": 0.5
             },
             "pattern": {
              "fillmode": "overlay",
              "size": 10,
              "solidity": 0.2
             }
            },
            "type": "barpolar"
           }
          ],
          "carpet": [
           {
            "aaxis": {
             "endlinecolor": "#2a3f5f",
             "gridcolor": "white",
             "linecolor": "white",
             "minorgridcolor": "white",
             "startlinecolor": "#2a3f5f"
            },
            "baxis": {
             "endlinecolor": "#2a3f5f",
             "gridcolor": "white",
             "linecolor": "white",
             "minorgridcolor": "white",
             "startlinecolor": "#2a3f5f"
            },
            "type": "carpet"
           }
          ],
          "choropleth": [
           {
            "colorbar": {
             "outlinewidth": 0,
             "ticks": ""
            },
            "type": "choropleth"
           }
          ],
          "contour": [
           {
            "colorbar": {
             "outlinewidth": 0,
             "ticks": ""
            },
            "colorscale": [
             [
              0,
              "#0d0887"
             ],
             [
              0.1111111111111111,
              "#46039f"
             ],
             [
              0.2222222222222222,
              "#7201a8"
             ],
             [
              0.3333333333333333,
              "#9c179e"
             ],
             [
              0.4444444444444444,
              "#bd3786"
             ],
             [
              0.5555555555555556,
              "#d8576b"
             ],
             [
              0.6666666666666666,
              "#ed7953"
             ],
             [
              0.7777777777777778,
              "#fb9f3a"
             ],
             [
              0.8888888888888888,
              "#fdca26"
             ],
             [
              1,
              "#f0f921"
             ]
            ],
            "type": "contour"
           }
          ],
          "contourcarpet": [
           {
            "colorbar": {
             "outlinewidth": 0,
             "ticks": ""
            },
            "type": "contourcarpet"
           }
          ],
          "heatmap": [
           {
            "colorbar": {
             "outlinewidth": 0,
             "ticks": ""
            },
            "colorscale": [
             [
              0,
              "#0d0887"
             ],
             [
              0.1111111111111111,
              "#46039f"
             ],
             [
              0.2222222222222222,
              "#7201a8"
             ],
             [
              0.3333333333333333,
              "#9c179e"
             ],
             [
              0.4444444444444444,
              "#bd3786"
             ],
             [
              0.5555555555555556,
              "#d8576b"
             ],
             [
              0.6666666666666666,
              "#ed7953"
             ],
             [
              0.7777777777777778,
              "#fb9f3a"
             ],
             [
              0.8888888888888888,
              "#fdca26"
             ],
             [
              1,
              "#f0f921"
             ]
            ],
            "type": "heatmap"
           }
          ],
          "heatmapgl": [
           {
            "colorbar": {
             "outlinewidth": 0,
             "ticks": ""
            },
            "colorscale": [
             [
              0,
              "#0d0887"
             ],
             [
              0.1111111111111111,
              "#46039f"
             ],
             [
              0.2222222222222222,
              "#7201a8"
             ],
             [
              0.3333333333333333,
              "#9c179e"
             ],
             [
              0.4444444444444444,
              "#bd3786"
             ],
             [
              0.5555555555555556,
              "#d8576b"
             ],
             [
              0.6666666666666666,
              "#ed7953"
             ],
             [
              0.7777777777777778,
              "#fb9f3a"
             ],
             [
              0.8888888888888888,
              "#fdca26"
             ],
             [
              1,
              "#f0f921"
             ]
            ],
            "type": "heatmapgl"
           }
          ],
          "histogram": [
           {
            "marker": {
             "pattern": {
              "fillmode": "overlay",
              "size": 10,
              "solidity": 0.2
             }
            },
            "type": "histogram"
           }
          ],
          "histogram2d": [
           {
            "colorbar": {
             "outlinewidth": 0,
             "ticks": ""
            },
            "colorscale": [
             [
              0,
              "#0d0887"
             ],
             [
              0.1111111111111111,
              "#46039f"
             ],
             [
              0.2222222222222222,
              "#7201a8"
             ],
             [
              0.3333333333333333,
              "#9c179e"
             ],
             [
              0.4444444444444444,
              "#bd3786"
             ],
             [
              0.5555555555555556,
              "#d8576b"
             ],
             [
              0.6666666666666666,
              "#ed7953"
             ],
             [
              0.7777777777777778,
              "#fb9f3a"
             ],
             [
              0.8888888888888888,
              "#fdca26"
             ],
             [
              1,
              "#f0f921"
             ]
            ],
            "type": "histogram2d"
           }
          ],
          "histogram2dcontour": [
           {
            "colorbar": {
             "outlinewidth": 0,
             "ticks": ""
            },
            "colorscale": [
             [
              0,
              "#0d0887"
             ],
             [
              0.1111111111111111,
              "#46039f"
             ],
             [
              0.2222222222222222,
              "#7201a8"
             ],
             [
              0.3333333333333333,
              "#9c179e"
             ],
             [
              0.4444444444444444,
              "#bd3786"
             ],
             [
              0.5555555555555556,
              "#d8576b"
             ],
             [
              0.6666666666666666,
              "#ed7953"
             ],
             [
              0.7777777777777778,
              "#fb9f3a"
             ],
             [
              0.8888888888888888,
              "#fdca26"
             ],
             [
              1,
              "#f0f921"
             ]
            ],
            "type": "histogram2dcontour"
           }
          ],
          "mesh3d": [
           {
            "colorbar": {
             "outlinewidth": 0,
             "ticks": ""
            },
            "type": "mesh3d"
           }
          ],
          "parcoords": [
           {
            "line": {
             "colorbar": {
              "outlinewidth": 0,
              "ticks": ""
             }
            },
            "type": "parcoords"
           }
          ],
          "pie": [
           {
            "automargin": true,
            "type": "pie"
           }
          ],
          "scatter": [
           {
            "fillpattern": {
             "fillmode": "overlay",
             "size": 10,
             "solidity": 0.2
            },
            "type": "scatter"
           }
          ],
          "scatter3d": [
           {
            "line": {
             "colorbar": {
              "outlinewidth": 0,
              "ticks": ""
             }
            },
            "marker": {
             "colorbar": {
              "outlinewidth": 0,
              "ticks": ""
             }
            },
            "type": "scatter3d"
           }
          ],
          "scattercarpet": [
           {
            "marker": {
             "colorbar": {
              "outlinewidth": 0,
              "ticks": ""
             }
            },
            "type": "scattercarpet"
           }
          ],
          "scattergeo": [
           {
            "marker": {
             "colorbar": {
              "outlinewidth": 0,
              "ticks": ""
             }
            },
            "type": "scattergeo"
           }
          ],
          "scattergl": [
           {
            "marker": {
             "colorbar": {
              "outlinewidth": 0,
              "ticks": ""
             }
            },
            "type": "scattergl"
           }
          ],
          "scattermapbox": [
           {
            "marker": {
             "colorbar": {
              "outlinewidth": 0,
              "ticks": ""
             }
            },
            "type": "scattermapbox"
           }
          ],
          "scatterpolar": [
           {
            "marker": {
             "colorbar": {
              "outlinewidth": 0,
              "ticks": ""
             }
            },
            "type": "scatterpolar"
           }
          ],
          "scatterpolargl": [
           {
            "marker": {
             "colorbar": {
              "outlinewidth": 0,
              "ticks": ""
             }
            },
            "type": "scatterpolargl"
           }
          ],
          "scatterternary": [
           {
            "marker": {
             "colorbar": {
              "outlinewidth": 0,
              "ticks": ""
             }
            },
            "type": "scatterternary"
           }
          ],
          "surface": [
           {
            "colorbar": {
             "outlinewidth": 0,
             "ticks": ""
            },
            "colorscale": [
             [
              0,
              "#0d0887"
             ],
             [
              0.1111111111111111,
              "#46039f"
             ],
             [
              0.2222222222222222,
              "#7201a8"
             ],
             [
              0.3333333333333333,
              "#9c179e"
             ],
             [
              0.4444444444444444,
              "#bd3786"
             ],
             [
              0.5555555555555556,
              "#d8576b"
             ],
             [
              0.6666666666666666,
              "#ed7953"
             ],
             [
              0.7777777777777778,
              "#fb9f3a"
             ],
             [
              0.8888888888888888,
              "#fdca26"
             ],
             [
              1,
              "#f0f921"
             ]
            ],
            "type": "surface"
           }
          ],
          "table": [
           {
            "cells": {
             "fill": {
              "color": "#EBF0F8"
             },
             "line": {
              "color": "white"
             }
            },
            "header": {
             "fill": {
              "color": "#C8D4E3"
             },
             "line": {
              "color": "white"
             }
            },
            "type": "table"
           }
          ]
         },
         "layout": {
          "annotationdefaults": {
           "arrowcolor": "#2a3f5f",
           "arrowhead": 0,
           "arrowwidth": 1
          },
          "autotypenumbers": "strict",
          "coloraxis": {
           "colorbar": {
            "outlinewidth": 0,
            "ticks": ""
           }
          },
          "colorscale": {
           "diverging": [
            [
             0,
             "#8e0152"
            ],
            [
             0.1,
             "#c51b7d"
            ],
            [
             0.2,
             "#de77ae"
            ],
            [
             0.3,
             "#f1b6da"
            ],
            [
             0.4,
             "#fde0ef"
            ],
            [
             0.5,
             "#f7f7f7"
            ],
            [
             0.6,
             "#e6f5d0"
            ],
            [
             0.7,
             "#b8e186"
            ],
            [
             0.8,
             "#7fbc41"
            ],
            [
             0.9,
             "#4d9221"
            ],
            [
             1,
             "#276419"
            ]
           ],
           "sequential": [
            [
             0,
             "#0d0887"
            ],
            [
             0.1111111111111111,
             "#46039f"
            ],
            [
             0.2222222222222222,
             "#7201a8"
            ],
            [
             0.3333333333333333,
             "#9c179e"
            ],
            [
             0.4444444444444444,
             "#bd3786"
            ],
            [
             0.5555555555555556,
             "#d8576b"
            ],
            [
             0.6666666666666666,
             "#ed7953"
            ],
            [
             0.7777777777777778,
             "#fb9f3a"
            ],
            [
             0.8888888888888888,
             "#fdca26"
            ],
            [
             1,
             "#f0f921"
            ]
           ],
           "sequentialminus": [
            [
             0,
             "#0d0887"
            ],
            [
             0.1111111111111111,
             "#46039f"
            ],
            [
             0.2222222222222222,
             "#7201a8"
            ],
            [
             0.3333333333333333,
             "#9c179e"
            ],
            [
             0.4444444444444444,
             "#bd3786"
            ],
            [
             0.5555555555555556,
             "#d8576b"
            ],
            [
             0.6666666666666666,
             "#ed7953"
            ],
            [
             0.7777777777777778,
             "#fb9f3a"
            ],
            [
             0.8888888888888888,
             "#fdca26"
            ],
            [
             1,
             "#f0f921"
            ]
           ]
          },
          "colorway": [
           "#636efa",
           "#EF553B",
           "#00cc96",
           "#ab63fa",
           "#FFA15A",
           "#19d3f3",
           "#FF6692",
           "#B6E880",
           "#FF97FF",
           "#FECB52"
          ],
          "font": {
           "color": "#2a3f5f"
          },
          "geo": {
           "bgcolor": "white",
           "lakecolor": "white",
           "landcolor": "#E5ECF6",
           "showlakes": true,
           "showland": true,
           "subunitcolor": "white"
          },
          "hoverlabel": {
           "align": "left"
          },
          "hovermode": "closest",
          "mapbox": {
           "style": "light"
          },
          "paper_bgcolor": "white",
          "plot_bgcolor": "#E5ECF6",
          "polar": {
           "angularaxis": {
            "gridcolor": "white",
            "linecolor": "white",
            "ticks": ""
           },
           "bgcolor": "#E5ECF6",
           "radialaxis": {
            "gridcolor": "white",
            "linecolor": "white",
            "ticks": ""
           }
          },
          "scene": {
           "xaxis": {
            "backgroundcolor": "#E5ECF6",
            "gridcolor": "white",
            "gridwidth": 2,
            "linecolor": "white",
            "showbackground": true,
            "ticks": "",
            "zerolinecolor": "white"
           },
           "yaxis": {
            "backgroundcolor": "#E5ECF6",
            "gridcolor": "white",
            "gridwidth": 2,
            "linecolor": "white",
            "showbackground": true,
            "ticks": "",
            "zerolinecolor": "white"
           },
           "zaxis": {
            "backgroundcolor": "#E5ECF6",
            "gridcolor": "white",
            "gridwidth": 2,
            "linecolor": "white",
            "showbackground": true,
            "ticks": "",
            "zerolinecolor": "white"
           }
          },
          "shapedefaults": {
           "line": {
            "color": "#2a3f5f"
           }
          },
          "ternary": {
           "aaxis": {
            "gridcolor": "white",
            "linecolor": "white",
            "ticks": ""
           },
           "baxis": {
            "gridcolor": "white",
            "linecolor": "white",
            "ticks": ""
           },
           "bgcolor": "#E5ECF6",
           "caxis": {
            "gridcolor": "white",
            "linecolor": "white",
            "ticks": ""
           }
          },
          "title": {
           "x": 0.05
          },
          "xaxis": {
           "automargin": true,
           "gridcolor": "white",
           "linecolor": "white",
           "ticks": "",
           "title": {
            "standoff": 15
           },
           "zerolinecolor": "white",
           "zerolinewidth": 2
          },
          "yaxis": {
           "automargin": true,
           "gridcolor": "white",
           "linecolor": "white",
           "ticks": "",
           "title": {
            "standoff": 15
           },
           "zerolinecolor": "white",
           "zerolinewidth": 2
          }
         }
        },
        "title": {
         "font": {
          "size": 20
         },
         "text": "인구수 대비 예상 의원의 수와 실제 의원의 수"
        },
        "width": 600
       }
      }
     },
     "metadata": {},
     "output_type": "display_data"
    }
   ],
   "source": [
    "import pandas as pd\n",
    "import json\n",
    "import folium\n",
    "import plotly.express as px\n",
    "\n",
    "with open(\"secret_key.json\") as f: # path \n",
    "    secrets = json.loads(f.read())\n",
    "    \n",
    "YOUR_GOOGLE_MAPS_API_KEY = secrets['google_api_key']\n",
    "\n",
    "geo_path = 'skorea_municipalities_geo_simple.json'\n",
    "geo_json = json.load(open(geo_path, encoding='utf-8'))\n",
    "\n",
    "fig = px.choropleth(df, geojson=geo_json, locations='자치구', color='difference', color_continuous_scale='Blues',)\n",
    "fig.update_geos(fitbounds=\"locations\", visible=False)\n",
    "fig.update_layout(title_text='인구수 대비 예상 의원의 수와 실제 의원의 수', title_font_size=20)\n",
    "\n",
    "# mapbox 설정을 통해 크기 조절\n",
    "fig.update_layout(\n",
    "    mapbox=dict(\n",
    "        style=\"open-street-map\",  # mapbox 스타일 설정\n",
    "        zoom=10,  # 지도 초기 줌 레벨\n",
    "        center={\"lat\": 37.5665, \"lon\": 126.9780},  # 초기 중심 좌표\n",
    "    )\n",
    ")\n",
    "\n",
    "# 지도 크기 조절\n",
    "fig.update_layout(height=400, width=600)\n",
    "\n",
    "# 플롯 표시\n",
    "fig.show()"
   ]
  },
  {
   "cell_type": "code",
   "execution_count": null,
   "id": "a0bf9975",
   "metadata": {},
   "outputs": [],
   "source": []
  },
  {
   "cell_type": "code",
   "execution_count": null,
   "id": "75ae9358",
   "metadata": {},
   "outputs": [],
   "source": []
  }
 ],
 "metadata": {
  "kernelspec": {
   "display_name": "Python 3 (ipykernel)",
   "language": "python",
   "name": "python3"
  },
  "language_info": {
   "codemirror_mode": {
    "name": "ipython",
    "version": 3
   },
   "file_extension": ".py",
   "mimetype": "text/x-python",
   "name": "python",
   "nbconvert_exporter": "python",
   "pygments_lexer": "ipython3",
   "version": "3.11.6"
  }
 },
 "nbformat": 4,
 "nbformat_minor": 5
}
